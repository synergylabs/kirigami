{
 "cells": [
  {
   "cell_type": "code",
   "execution_count": 1,
   "outputs": [
    {
     "name": "stdout",
     "output_type": "stream",
     "text": [
      "/Users/haozhezh/Documents/Research/CMU/AudioFeaturizationAttack/Kirigami_Publish/Kirigami-private-audio\n"
     ]
    },
    {
     "name": "stderr",
     "output_type": "stream",
     "text": [
      "/Users/haozhezh/Kirigami-private-audio/lib/python3.10/site-packages/IPython/core/magics/osm.py:417: UserWarning: This is now an optional IPython functionality, setting dhist requires you to install the `pickleshare` library.\n",
      "  self.shell.db['dhist'] = compress_dhist(dhist)[-100:]\n"
     ]
    },
    {
     "data": {
      "text/plain": "'/Users/haozhezh/Documents/Research/CMU/AudioFeaturizationAttack/Kirigami_Publish/Kirigami-private-audio'"
     },
     "execution_count": 1,
     "metadata": {},
     "output_type": "execute_result"
    }
   ],
   "source": [
    "# make sure in the project's roots' directory\n",
    "%cd ../\n",
    "%pwd"
   ],
   "metadata": {
    "collapsed": false
   }
  },
  {
   "cell_type": "code",
   "execution_count": 2,
   "outputs": [],
   "source": [
    "import torch\n",
    "from torch.utils.data import DataLoader, Dataset, random_split\n",
    "from torch.nn.utils.rnn import pad_sequence, unpad_sequence\n",
    "from torch import Tensor\n",
    "import numpy as np\n",
    "import pandas as pd\n",
    "import scipy as sp\n",
    "import soundfile\n",
    "import os"
   ],
   "metadata": {
    "collapsed": false
   }
  },
  {
   "cell_type": "markdown",
   "source": [
    "## Background Detector"
   ],
   "metadata": {
    "collapsed": false
   }
  },
  {
   "cell_type": "markdown",
   "source": [
    "### Prepare dataset"
   ],
   "metadata": {
    "collapsed": false
   }
  },
  {
   "cell_type": "code",
   "execution_count": 3,
   "outputs": [],
   "source": [
    "def fft_features_with_tags(wav_form, bg_start, bg_end, window_size=256, non_overlap=128):\n",
    "  _, _, stft = sp.signal.stft(x=wav_form, fs=16000, nperseg=window_size, noverlap=non_overlap)\n",
    "  speech_start_window = (bg_start - window_size + non_overlap) // non_overlap\n",
    "  speech_end_window = (bg_end-window_size+non_overlap) // non_overlap\n",
    "  features = []\n",
    "  stft = stft.transpose((1, 0))\n",
    "  tags = np.zeros(len(stft))\n",
    "  tags[:] = 0\n",
    "  tags[speech_start_window:speech_end_window] = 1\n",
    "  stft = np.abs(stft)\n",
    "  for fft in stft:\n",
    "    features.append(fft)\n",
    "  return features, tags\n",
    "\n",
    "def load_audio(file: str):\n",
    "    # Load Audio # lower sampling rate\n",
    "    audio_samples, sp = soundfile.read(file)\n",
    "    return audio_samples\n",
    "\n",
    "class AudiosetDataset(Dataset):\n",
    "    def __init__(self, bf_detect_df):\n",
    "        self.audio_files_list = []\n",
    "        self.start_end_list = []    # 3-tuple: (wrd_start, wrd_end, wrd_start2); wrd_end2 is the end of audio\n",
    "        for idx, row in bf_detect_df.iterrows():\n",
    "          self.audio_files_list.append(row['wav'])\n",
    "          # self.audio_files_list.append(interleave_wavs_path + row['wav'].replace('./timit_background_detector_training_one_level_snr', ''))\n",
    "          self.start_end_list.append((row['bg_start'],row['bg_end']))\n",
    "\n",
    "    def __getitem__(self, index):\n",
    "        audio = load_audio(self.audio_files_list[index])\n",
    "        wrd_start_loc, wrd_end_loc = self.start_end_list[index]\n",
    "        audio_features, audio_tags = fft_features_with_tags(audio, wrd_start_loc, wrd_end_loc)\n",
    "        return Tensor(np.asarray(audio_features)).to(DEVICE), Tensor(audio_tags).to(DEVICE)\n",
    "\n",
    "    def __len__(self):\n",
    "        return len(self.audio_files_list)\n",
    "\n",
    "def pad_collate(batch):\n",
    "    (xx, yy) = zip(*batch)\n",
    "    x_lens = [len(x) for x in xx]\n",
    "    y_lens = [len(y) for y in yy]\n",
    "    xx_pad = pad_sequence(xx, batch_first=True, padding_value=0)\n",
    "    yy_pad = pad_sequence(yy, batch_first=True, padding_value=0)\n",
    "    return xx_pad, yy_pad, torch.tensor(x_lens, dtype=torch.float32), torch.tensor(y_lens, dtype=torch.float32)\n",
    "\n",
    "def get_data_prep_dataset_dataloader(bf_detect_df, batch_size=32):\n",
    "  dataset = AudiosetDataset(bf_detect_df)\n",
    "  train_set, val_set, test_set = random_split(dataset, [0.8, 0.1, 0.1])\n",
    "  train_loader = DataLoader(train_set, batch_size=batch_size, shuffle=True, collate_fn=pad_collate)\n",
    "  val_loader = DataLoader(val_set, batch_size=batch_size, shuffle=True, collate_fn=pad_collate)\n",
    "  test_loader = DataLoader(test_set, batch_size=batch_size, shuffle=True, collate_fn=pad_collate)\n",
    "  return train_loader, val_loader, test_loader"
   ],
   "metadata": {
    "collapsed": false
   }
  },
  {
   "cell_type": "code",
   "execution_count": 4,
   "outputs": [],
   "source": [
    "BF_WAV_PATH = './datasets/background_detect/'\n",
    "BF_CSV_PATH = './datasets/background_detect/background_detector_dataset.csv'\n",
    "\n",
    "batch_size = 32\n",
    "model_path = \"./results/bf_detect/\"\n",
    "if not os.path.exists(model_path):\n",
    "    os.makedirs(model_path)\n",
    "\n",
    "my_bf_detect_df = pd.read_csv(BF_CSV_PATH)\n",
    "train_loader, val_loader, test_loader = get_data_prep_dataset_dataloader(my_bf_detect_df, batch_size=batch_size)"
   ],
   "metadata": {
    "collapsed": false
   }
  },
  {
   "cell_type": "code",
   "execution_count": 5,
   "outputs": [],
   "source": [
    "class LogisticRegressionClassifier(torch.nn.Module):\n",
    "    def __init__(self, feature_dim=129):\n",
    "        super(LogisticRegressionClassifier, self).__init__()\n",
    "        self.linear1 = torch.nn.Linear(feature_dim, 1)\n",
    "        self.sigmoid = torch.nn.Sigmoid()\n",
    "    def forward(self, xx):\n",
    "        xx = self.linear1(torch.nn.functional.normalize(xx, p=1.0, dim = 1))\n",
    "        return self.sigmoid(xx)"
   ],
   "metadata": {
    "collapsed": false
   }
  },
  {
   "cell_type": "markdown",
   "source": [
    "### Train the speech detector model"
   ],
   "metadata": {
    "collapsed": false
   }
  },
  {
   "cell_type": "code",
   "execution_count": 9,
   "outputs": [],
   "source": [
    "DEVICE = torch.device(\"cuda\" if torch.cuda.is_available() else \"cpu\")\n",
    "my_model = LogisticRegressionClassifier(feature_dim=129).to(DEVICE)"
   ],
   "metadata": {
    "collapsed": false
   }
  },
  {
   "cell_type": "code",
   "execution_count": 10,
   "outputs": [],
   "source": [
    "bce = torch.nn.BCELoss()\n",
    "optim =  torch.optim.Adam(my_model.parameters(), lr=0.001)"
   ],
   "metadata": {
    "collapsed": false
   }
  },
  {
   "cell_type": "code",
   "execution_count": 11,
   "outputs": [
    {
     "name": "stderr",
     "output_type": "stream",
     "text": [
      "Training...66.67%, Acc0.68:  55%|█████▌    | 11/20 [05:38<04:36, 30.76s/it, validation_accuracy=0.705] \n"
     ]
    },
    {
     "ename": "KeyboardInterrupt",
     "evalue": "",
     "output_type": "error",
     "traceback": [
      "\u001B[0;31m---------------------------------------------------------------------------\u001B[0m",
      "\u001B[0;31mKeyboardInterrupt\u001B[0m                         Traceback (most recent call last)",
      "Cell \u001B[0;32mIn[11], line 15\u001B[0m\n\u001B[1;32m     13\u001B[0m total_samples \u001B[38;5;241m=\u001B[39m \u001B[38;5;241m0\u001B[39m\n\u001B[1;32m     14\u001B[0m current_count_train \u001B[38;5;241m=\u001B[39m \u001B[38;5;241m0\u001B[39m\n\u001B[0;32m---> 15\u001B[0m \u001B[38;5;28;01mfor\u001B[39;00m x_padded, y_padded, x_lens, y_lens \u001B[38;5;129;01min\u001B[39;00m train_loader:\n\u001B[1;32m     16\u001B[0m     current_count_train \u001B[38;5;241m=\u001B[39m current_count_train \u001B[38;5;241m+\u001B[39m \u001B[38;5;241m1\u001B[39m\n\u001B[1;32m     17\u001B[0m     training_percent \u001B[38;5;241m=\u001B[39m \u001B[38;5;241m100\u001B[39m \u001B[38;5;241m*\u001B[39m current_count_train \u001B[38;5;241m/\u001B[39m \u001B[38;5;28mlen\u001B[39m(train_loader)\n",
      "File \u001B[0;32m~/Kirigami-private-audio/lib/python3.10/site-packages/torch/utils/data/dataloader.py:631\u001B[0m, in \u001B[0;36m_BaseDataLoaderIter.__next__\u001B[0;34m(self)\u001B[0m\n\u001B[1;32m    628\u001B[0m \u001B[38;5;28;01mif\u001B[39;00m \u001B[38;5;28mself\u001B[39m\u001B[38;5;241m.\u001B[39m_sampler_iter \u001B[38;5;129;01mis\u001B[39;00m \u001B[38;5;28;01mNone\u001B[39;00m:\n\u001B[1;32m    629\u001B[0m     \u001B[38;5;66;03m# TODO(https://github.com/pytorch/pytorch/issues/76750)\u001B[39;00m\n\u001B[1;32m    630\u001B[0m     \u001B[38;5;28mself\u001B[39m\u001B[38;5;241m.\u001B[39m_reset()  \u001B[38;5;66;03m# type: ignore[call-arg]\u001B[39;00m\n\u001B[0;32m--> 631\u001B[0m data \u001B[38;5;241m=\u001B[39m \u001B[38;5;28;43mself\u001B[39;49m\u001B[38;5;241;43m.\u001B[39;49m\u001B[43m_next_data\u001B[49m\u001B[43m(\u001B[49m\u001B[43m)\u001B[49m\n\u001B[1;32m    632\u001B[0m \u001B[38;5;28mself\u001B[39m\u001B[38;5;241m.\u001B[39m_num_yielded \u001B[38;5;241m+\u001B[39m\u001B[38;5;241m=\u001B[39m \u001B[38;5;241m1\u001B[39m\n\u001B[1;32m    633\u001B[0m \u001B[38;5;28;01mif\u001B[39;00m \u001B[38;5;28mself\u001B[39m\u001B[38;5;241m.\u001B[39m_dataset_kind \u001B[38;5;241m==\u001B[39m _DatasetKind\u001B[38;5;241m.\u001B[39mIterable \u001B[38;5;129;01mand\u001B[39;00m \\\n\u001B[1;32m    634\u001B[0m         \u001B[38;5;28mself\u001B[39m\u001B[38;5;241m.\u001B[39m_IterableDataset_len_called \u001B[38;5;129;01mis\u001B[39;00m \u001B[38;5;129;01mnot\u001B[39;00m \u001B[38;5;28;01mNone\u001B[39;00m \u001B[38;5;129;01mand\u001B[39;00m \\\n\u001B[1;32m    635\u001B[0m         \u001B[38;5;28mself\u001B[39m\u001B[38;5;241m.\u001B[39m_num_yielded \u001B[38;5;241m>\u001B[39m \u001B[38;5;28mself\u001B[39m\u001B[38;5;241m.\u001B[39m_IterableDataset_len_called:\n",
      "File \u001B[0;32m~/Kirigami-private-audio/lib/python3.10/site-packages/torch/utils/data/dataloader.py:675\u001B[0m, in \u001B[0;36m_SingleProcessDataLoaderIter._next_data\u001B[0;34m(self)\u001B[0m\n\u001B[1;32m    673\u001B[0m \u001B[38;5;28;01mdef\u001B[39;00m \u001B[38;5;21m_next_data\u001B[39m(\u001B[38;5;28mself\u001B[39m):\n\u001B[1;32m    674\u001B[0m     index \u001B[38;5;241m=\u001B[39m \u001B[38;5;28mself\u001B[39m\u001B[38;5;241m.\u001B[39m_next_index()  \u001B[38;5;66;03m# may raise StopIteration\u001B[39;00m\n\u001B[0;32m--> 675\u001B[0m     data \u001B[38;5;241m=\u001B[39m \u001B[38;5;28;43mself\u001B[39;49m\u001B[38;5;241;43m.\u001B[39;49m\u001B[43m_dataset_fetcher\u001B[49m\u001B[38;5;241;43m.\u001B[39;49m\u001B[43mfetch\u001B[49m\u001B[43m(\u001B[49m\u001B[43mindex\u001B[49m\u001B[43m)\u001B[49m  \u001B[38;5;66;03m# may raise StopIteration\u001B[39;00m\n\u001B[1;32m    676\u001B[0m     \u001B[38;5;28;01mif\u001B[39;00m \u001B[38;5;28mself\u001B[39m\u001B[38;5;241m.\u001B[39m_pin_memory:\n\u001B[1;32m    677\u001B[0m         data \u001B[38;5;241m=\u001B[39m _utils\u001B[38;5;241m.\u001B[39mpin_memory\u001B[38;5;241m.\u001B[39mpin_memory(data, \u001B[38;5;28mself\u001B[39m\u001B[38;5;241m.\u001B[39m_pin_memory_device)\n",
      "File \u001B[0;32m~/Kirigami-private-audio/lib/python3.10/site-packages/torch/utils/data/_utils/fetch.py:49\u001B[0m, in \u001B[0;36m_MapDatasetFetcher.fetch\u001B[0;34m(self, possibly_batched_index)\u001B[0m\n\u001B[1;32m     47\u001B[0m \u001B[38;5;28;01mif\u001B[39;00m \u001B[38;5;28mself\u001B[39m\u001B[38;5;241m.\u001B[39mauto_collation:\n\u001B[1;32m     48\u001B[0m     \u001B[38;5;28;01mif\u001B[39;00m \u001B[38;5;28mhasattr\u001B[39m(\u001B[38;5;28mself\u001B[39m\u001B[38;5;241m.\u001B[39mdataset, \u001B[38;5;124m\"\u001B[39m\u001B[38;5;124m__getitems__\u001B[39m\u001B[38;5;124m\"\u001B[39m) \u001B[38;5;129;01mand\u001B[39;00m \u001B[38;5;28mself\u001B[39m\u001B[38;5;241m.\u001B[39mdataset\u001B[38;5;241m.\u001B[39m__getitems__:\n\u001B[0;32m---> 49\u001B[0m         data \u001B[38;5;241m=\u001B[39m \u001B[38;5;28;43mself\u001B[39;49m\u001B[38;5;241;43m.\u001B[39;49m\u001B[43mdataset\u001B[49m\u001B[38;5;241;43m.\u001B[39;49m\u001B[43m__getitems__\u001B[49m\u001B[43m(\u001B[49m\u001B[43mpossibly_batched_index\u001B[49m\u001B[43m)\u001B[49m\n\u001B[1;32m     50\u001B[0m     \u001B[38;5;28;01melse\u001B[39;00m:\n\u001B[1;32m     51\u001B[0m         data \u001B[38;5;241m=\u001B[39m [\u001B[38;5;28mself\u001B[39m\u001B[38;5;241m.\u001B[39mdataset[idx] \u001B[38;5;28;01mfor\u001B[39;00m idx \u001B[38;5;129;01min\u001B[39;00m possibly_batched_index]\n",
      "File \u001B[0;32m~/Kirigami-private-audio/lib/python3.10/site-packages/torch/utils/data/dataset.py:419\u001B[0m, in \u001B[0;36mSubset.__getitems__\u001B[0;34m(self, indices)\u001B[0m\n\u001B[1;32m    417\u001B[0m     \u001B[38;5;28;01mreturn\u001B[39;00m \u001B[38;5;28mself\u001B[39m\u001B[38;5;241m.\u001B[39mdataset\u001B[38;5;241m.\u001B[39m__getitems__([\u001B[38;5;28mself\u001B[39m\u001B[38;5;241m.\u001B[39mindices[idx] \u001B[38;5;28;01mfor\u001B[39;00m idx \u001B[38;5;129;01min\u001B[39;00m indices])  \u001B[38;5;66;03m# type: ignore[attr-defined]\u001B[39;00m\n\u001B[1;32m    418\u001B[0m \u001B[38;5;28;01melse\u001B[39;00m:\n\u001B[0;32m--> 419\u001B[0m     \u001B[38;5;28;01mreturn\u001B[39;00m [\u001B[38;5;28mself\u001B[39m\u001B[38;5;241m.\u001B[39mdataset[\u001B[38;5;28mself\u001B[39m\u001B[38;5;241m.\u001B[39mindices[idx]] \u001B[38;5;28;01mfor\u001B[39;00m idx \u001B[38;5;129;01min\u001B[39;00m indices]\n",
      "File \u001B[0;32m~/Kirigami-private-audio/lib/python3.10/site-packages/torch/utils/data/dataset.py:419\u001B[0m, in \u001B[0;36m<listcomp>\u001B[0;34m(.0)\u001B[0m\n\u001B[1;32m    417\u001B[0m     \u001B[38;5;28;01mreturn\u001B[39;00m \u001B[38;5;28mself\u001B[39m\u001B[38;5;241m.\u001B[39mdataset\u001B[38;5;241m.\u001B[39m__getitems__([\u001B[38;5;28mself\u001B[39m\u001B[38;5;241m.\u001B[39mindices[idx] \u001B[38;5;28;01mfor\u001B[39;00m idx \u001B[38;5;129;01min\u001B[39;00m indices])  \u001B[38;5;66;03m# type: ignore[attr-defined]\u001B[39;00m\n\u001B[1;32m    418\u001B[0m \u001B[38;5;28;01melse\u001B[39;00m:\n\u001B[0;32m--> 419\u001B[0m     \u001B[38;5;28;01mreturn\u001B[39;00m [\u001B[38;5;28;43mself\u001B[39;49m\u001B[38;5;241;43m.\u001B[39;49m\u001B[43mdataset\u001B[49m\u001B[43m[\u001B[49m\u001B[38;5;28;43mself\u001B[39;49m\u001B[38;5;241;43m.\u001B[39;49m\u001B[43mindices\u001B[49m\u001B[43m[\u001B[49m\u001B[43midx\u001B[49m\u001B[43m]\u001B[49m\u001B[43m]\u001B[49m \u001B[38;5;28;01mfor\u001B[39;00m idx \u001B[38;5;129;01min\u001B[39;00m indices]\n",
      "Cell \u001B[0;32mIn[3], line 32\u001B[0m, in \u001B[0;36mAudiosetDataset.__getitem__\u001B[0;34m(self, index)\u001B[0m\n\u001B[1;32m     30\u001B[0m audio \u001B[38;5;241m=\u001B[39m load_audio(\u001B[38;5;28mself\u001B[39m\u001B[38;5;241m.\u001B[39maudio_files_list[index])\n\u001B[1;32m     31\u001B[0m wrd_start_loc, wrd_end_loc \u001B[38;5;241m=\u001B[39m \u001B[38;5;28mself\u001B[39m\u001B[38;5;241m.\u001B[39mstart_end_list[index]\n\u001B[0;32m---> 32\u001B[0m audio_features, audio_tags \u001B[38;5;241m=\u001B[39m \u001B[43mfft_features_with_tags\u001B[49m\u001B[43m(\u001B[49m\u001B[43maudio\u001B[49m\u001B[43m,\u001B[49m\u001B[43m \u001B[49m\u001B[43mwrd_start_loc\u001B[49m\u001B[43m,\u001B[49m\u001B[43m \u001B[49m\u001B[43mwrd_end_loc\u001B[49m\u001B[43m)\u001B[49m\n\u001B[1;32m     33\u001B[0m \u001B[38;5;28;01mreturn\u001B[39;00m Tensor(np\u001B[38;5;241m.\u001B[39masarray(audio_features))\u001B[38;5;241m.\u001B[39mto(DEVICE), Tensor(audio_tags)\u001B[38;5;241m.\u001B[39mto(DEVICE)\n",
      "Cell \u001B[0;32mIn[3], line 2\u001B[0m, in \u001B[0;36mfft_features_with_tags\u001B[0;34m(wav_form, bg_start, bg_end, window_size, non_overlap)\u001B[0m\n\u001B[1;32m      1\u001B[0m \u001B[38;5;28;01mdef\u001B[39;00m \u001B[38;5;21mfft_features_with_tags\u001B[39m(wav_form, bg_start, bg_end, window_size\u001B[38;5;241m=\u001B[39m\u001B[38;5;241m256\u001B[39m, non_overlap\u001B[38;5;241m=\u001B[39m\u001B[38;5;241m128\u001B[39m):\n\u001B[0;32m----> 2\u001B[0m   _, _, stft \u001B[38;5;241m=\u001B[39m \u001B[43msp\u001B[49m\u001B[38;5;241;43m.\u001B[39;49m\u001B[43msignal\u001B[49m\u001B[38;5;241;43m.\u001B[39;49m\u001B[43mstft\u001B[49m\u001B[43m(\u001B[49m\u001B[43mx\u001B[49m\u001B[38;5;241;43m=\u001B[39;49m\u001B[43mwav_form\u001B[49m\u001B[43m,\u001B[49m\u001B[43m \u001B[49m\u001B[43mfs\u001B[49m\u001B[38;5;241;43m=\u001B[39;49m\u001B[38;5;241;43m16000\u001B[39;49m\u001B[43m,\u001B[49m\u001B[43m \u001B[49m\u001B[43mnperseg\u001B[49m\u001B[38;5;241;43m=\u001B[39;49m\u001B[43mwindow_size\u001B[49m\u001B[43m,\u001B[49m\u001B[43m \u001B[49m\u001B[43mnoverlap\u001B[49m\u001B[38;5;241;43m=\u001B[39;49m\u001B[43mnon_overlap\u001B[49m\u001B[43m)\u001B[49m\n\u001B[1;32m      3\u001B[0m   speech_start_window \u001B[38;5;241m=\u001B[39m (bg_start \u001B[38;5;241m-\u001B[39m window_size \u001B[38;5;241m+\u001B[39m non_overlap) \u001B[38;5;241m/\u001B[39m\u001B[38;5;241m/\u001B[39m non_overlap\n\u001B[1;32m      4\u001B[0m   speech_end_window \u001B[38;5;241m=\u001B[39m (bg_end\u001B[38;5;241m-\u001B[39mwindow_size\u001B[38;5;241m+\u001B[39mnon_overlap) \u001B[38;5;241m/\u001B[39m\u001B[38;5;241m/\u001B[39m non_overlap\n",
      "File \u001B[0;32m~/Kirigami-private-audio/lib/python3.10/site-packages/scipy/signal/_spectral_py.py:1211\u001B[0m, in \u001B[0;36mstft\u001B[0;34m(x, fs, window, nperseg, noverlap, nfft, detrend, return_onesided, boundary, padded, axis, scaling)\u001B[0m\n\u001B[1;32m   1208\u001B[0m \u001B[38;5;28;01melif\u001B[39;00m scaling \u001B[38;5;241m!=\u001B[39m \u001B[38;5;124m'\u001B[39m\u001B[38;5;124mspectrum\u001B[39m\u001B[38;5;124m'\u001B[39m:\n\u001B[1;32m   1209\u001B[0m     \u001B[38;5;28;01mraise\u001B[39;00m \u001B[38;5;167;01mValueError\u001B[39;00m(\u001B[38;5;124mf\u001B[39m\u001B[38;5;124m\"\u001B[39m\u001B[38;5;124mParameter \u001B[39m\u001B[38;5;132;01m{\u001B[39;00mscaling\u001B[38;5;132;01m=}\u001B[39;00m\u001B[38;5;124m not in [\u001B[39m\u001B[38;5;124m'\u001B[39m\u001B[38;5;124mspectrum\u001B[39m\u001B[38;5;124m'\u001B[39m\u001B[38;5;124m, \u001B[39m\u001B[38;5;124m'\u001B[39m\u001B[38;5;124mpsd\u001B[39m\u001B[38;5;124m'\u001B[39m\u001B[38;5;124m]!\u001B[39m\u001B[38;5;124m\"\u001B[39m)\n\u001B[0;32m-> 1211\u001B[0m freqs, time, Zxx \u001B[38;5;241m=\u001B[39m \u001B[43m_spectral_helper\u001B[49m\u001B[43m(\u001B[49m\u001B[43mx\u001B[49m\u001B[43m,\u001B[49m\u001B[43m \u001B[49m\u001B[43mx\u001B[49m\u001B[43m,\u001B[49m\u001B[43m \u001B[49m\u001B[43mfs\u001B[49m\u001B[43m,\u001B[49m\u001B[43m \u001B[49m\u001B[43mwindow\u001B[49m\u001B[43m,\u001B[49m\u001B[43m \u001B[49m\u001B[43mnperseg\u001B[49m\u001B[43m,\u001B[49m\u001B[43m \u001B[49m\u001B[43mnoverlap\u001B[49m\u001B[43m,\u001B[49m\n\u001B[1;32m   1212\u001B[0m \u001B[43m                                    \u001B[49m\u001B[43mnfft\u001B[49m\u001B[43m,\u001B[49m\u001B[43m \u001B[49m\u001B[43mdetrend\u001B[49m\u001B[43m,\u001B[49m\u001B[43m \u001B[49m\u001B[43mreturn_onesided\u001B[49m\u001B[43m,\u001B[49m\n\u001B[1;32m   1213\u001B[0m \u001B[43m                                    \u001B[49m\u001B[43mscaling\u001B[49m\u001B[38;5;241;43m=\u001B[39;49m\u001B[43mscaling\u001B[49m\u001B[43m,\u001B[49m\u001B[43m \u001B[49m\u001B[43maxis\u001B[49m\u001B[38;5;241;43m=\u001B[39;49m\u001B[43maxis\u001B[49m\u001B[43m,\u001B[49m\n\u001B[1;32m   1214\u001B[0m \u001B[43m                                    \u001B[49m\u001B[43mmode\u001B[49m\u001B[38;5;241;43m=\u001B[39;49m\u001B[38;5;124;43m'\u001B[39;49m\u001B[38;5;124;43mstft\u001B[39;49m\u001B[38;5;124;43m'\u001B[39;49m\u001B[43m,\u001B[49m\u001B[43m \u001B[49m\u001B[43mboundary\u001B[49m\u001B[38;5;241;43m=\u001B[39;49m\u001B[43mboundary\u001B[49m\u001B[43m,\u001B[49m\n\u001B[1;32m   1215\u001B[0m \u001B[43m                                    \u001B[49m\u001B[43mpadded\u001B[49m\u001B[38;5;241;43m=\u001B[39;49m\u001B[43mpadded\u001B[49m\u001B[43m)\u001B[49m\n\u001B[1;32m   1217\u001B[0m \u001B[38;5;28;01mreturn\u001B[39;00m freqs, time, Zxx\n",
      "File \u001B[0;32m~/Kirigami-private-audio/lib/python3.10/site-packages/scipy/signal/_spectral_py.py:1885\u001B[0m, in \u001B[0;36m_spectral_helper\u001B[0;34m(x, y, fs, window, nperseg, noverlap, nfft, detrend, return_onesided, scaling, axis, mode, boundary, padded)\u001B[0m\n\u001B[1;32m   1882\u001B[0m     freqs \u001B[38;5;241m=\u001B[39m sp_fft\u001B[38;5;241m.\u001B[39mrfftfreq(nfft, \u001B[38;5;241m1\u001B[39m\u001B[38;5;241m/\u001B[39mfs)\n\u001B[1;32m   1884\u001B[0m \u001B[38;5;66;03m# Perform the windowed FFTs\u001B[39;00m\n\u001B[0;32m-> 1885\u001B[0m result \u001B[38;5;241m=\u001B[39m \u001B[43m_fft_helper\u001B[49m\u001B[43m(\u001B[49m\u001B[43mx\u001B[49m\u001B[43m,\u001B[49m\u001B[43m \u001B[49m\u001B[43mwin\u001B[49m\u001B[43m,\u001B[49m\u001B[43m \u001B[49m\u001B[43mdetrend_func\u001B[49m\u001B[43m,\u001B[49m\u001B[43m \u001B[49m\u001B[43mnperseg\u001B[49m\u001B[43m,\u001B[49m\u001B[43m \u001B[49m\u001B[43mnoverlap\u001B[49m\u001B[43m,\u001B[49m\u001B[43m \u001B[49m\u001B[43mnfft\u001B[49m\u001B[43m,\u001B[49m\u001B[43m \u001B[49m\u001B[43msides\u001B[49m\u001B[43m)\u001B[49m\n\u001B[1;32m   1887\u001B[0m \u001B[38;5;28;01mif\u001B[39;00m \u001B[38;5;129;01mnot\u001B[39;00m same_data:\n\u001B[1;32m   1888\u001B[0m     \u001B[38;5;66;03m# All the same operations on the y data\u001B[39;00m\n\u001B[1;32m   1889\u001B[0m     result_y \u001B[38;5;241m=\u001B[39m _fft_helper(y, win, detrend_func, nperseg, noverlap, nfft,\n\u001B[1;32m   1890\u001B[0m                            sides)\n",
      "File \u001B[0;32m~/Kirigami-private-audio/lib/python3.10/site-packages/scipy/signal/_spectral_py.py:1970\u001B[0m, in \u001B[0;36m_fft_helper\u001B[0;34m(x, win, detrend_func, nperseg, noverlap, nfft, sides)\u001B[0m\n\u001B[1;32m   1968\u001B[0m     result \u001B[38;5;241m=\u001B[39m result\u001B[38;5;241m.\u001B[39mreal\n\u001B[1;32m   1969\u001B[0m     func \u001B[38;5;241m=\u001B[39m sp_fft\u001B[38;5;241m.\u001B[39mrfft\n\u001B[0;32m-> 1970\u001B[0m result \u001B[38;5;241m=\u001B[39m \u001B[43mfunc\u001B[49m\u001B[43m(\u001B[49m\u001B[43mresult\u001B[49m\u001B[43m,\u001B[49m\u001B[43m \u001B[49m\u001B[43mn\u001B[49m\u001B[38;5;241;43m=\u001B[39;49m\u001B[43mnfft\u001B[49m\u001B[43m)\u001B[49m\n\u001B[1;32m   1972\u001B[0m \u001B[38;5;28;01mreturn\u001B[39;00m result\n",
      "File \u001B[0;32m~/Kirigami-private-audio/lib/python3.10/site-packages/scipy/fft/_backend.py:25\u001B[0m, in \u001B[0;36m_ScipyBackend.__ua_function__\u001B[0;34m(method, args, kwargs)\u001B[0m\n\u001B[1;32m     23\u001B[0m \u001B[38;5;28;01mif\u001B[39;00m fn \u001B[38;5;129;01mis\u001B[39;00m \u001B[38;5;28;01mNone\u001B[39;00m:\n\u001B[1;32m     24\u001B[0m     \u001B[38;5;28;01mreturn\u001B[39;00m \u001B[38;5;28mNotImplemented\u001B[39m\n\u001B[0;32m---> 25\u001B[0m \u001B[38;5;28;01mreturn\u001B[39;00m \u001B[43mfn\u001B[49m\u001B[43m(\u001B[49m\u001B[38;5;241;43m*\u001B[39;49m\u001B[43margs\u001B[49m\u001B[43m,\u001B[49m\u001B[43m \u001B[49m\u001B[38;5;241;43m*\u001B[39;49m\u001B[38;5;241;43m*\u001B[39;49m\u001B[43mkwargs\u001B[49m\u001B[43m)\u001B[49m\n",
      "File \u001B[0;32m~/Kirigami-private-audio/lib/python3.10/site-packages/scipy/fft/_pocketfft/basic.py:62\u001B[0m, in \u001B[0;36mr2c\u001B[0;34m(forward, x, n, axis, norm, overwrite_x, workers, plan)\u001B[0m\n\u001B[1;32m     58\u001B[0m     \u001B[38;5;28;01mraise\u001B[39;00m \u001B[38;5;167;01mValueError\u001B[39;00m(\u001B[38;5;124m\"\u001B[39m\u001B[38;5;124minvalid number of data points (\u001B[39m\u001B[38;5;132;01m{0}\u001B[39;00m\u001B[38;5;124m) specified\u001B[39m\u001B[38;5;124m\"\u001B[39m\n\u001B[1;32m     59\u001B[0m                      \u001B[38;5;241m.\u001B[39mformat(tmp\u001B[38;5;241m.\u001B[39mshape[axis]))\n\u001B[1;32m     61\u001B[0m \u001B[38;5;66;03m# Note: overwrite_x is not utilised\u001B[39;00m\n\u001B[0;32m---> 62\u001B[0m \u001B[38;5;28;01mreturn\u001B[39;00m \u001B[43mpfft\u001B[49m\u001B[38;5;241;43m.\u001B[39;49m\u001B[43mr2c\u001B[49m\u001B[43m(\u001B[49m\u001B[43mtmp\u001B[49m\u001B[43m,\u001B[49m\u001B[43m \u001B[49m\u001B[43m(\u001B[49m\u001B[43maxis\u001B[49m\u001B[43m,\u001B[49m\u001B[43m)\u001B[49m\u001B[43m,\u001B[49m\u001B[43m \u001B[49m\u001B[43mforward\u001B[49m\u001B[43m,\u001B[49m\u001B[43m \u001B[49m\u001B[43mnorm\u001B[49m\u001B[43m,\u001B[49m\u001B[43m \u001B[49m\u001B[38;5;28;43;01mNone\u001B[39;49;00m\u001B[43m,\u001B[49m\u001B[43m \u001B[49m\u001B[43mworkers\u001B[49m\u001B[43m)\u001B[49m\n",
      "\u001B[0;31mKeyboardInterrupt\u001B[0m: "
     ]
    }
   ],
   "source": [
    "from tqdm import tqdm\n",
    "from sklearn.metrics import accuracy_score\n",
    "max_epoch=20\n",
    "\n",
    "validating_frequency = 1\n",
    "epoch = 0\n",
    "\n",
    "s = tqdm(range(0, int(max_epoch)),desc='Training Epochs')\n",
    "\n",
    "for epoch in s:\n",
    "    my_model.train()\n",
    "    total_loss = 0\n",
    "    total_samples = 0\n",
    "    current_count_train = 0\n",
    "    for x_padded, y_padded, x_lens, y_lens in train_loader:\n",
    "        current_count_train = current_count_train + 1\n",
    "        training_percent = 100 * current_count_train / len(train_loader)\n",
    "\n",
    "        unpadded_x = unpad_sequence(x_padded, x_lens, batch_first=True,)\n",
    "        unpadded_y = unpad_sequence(y_padded, y_lens, batch_first=True,)\n",
    "\n",
    "        concat_x = torch.cat(unpadded_x, dim=0)\n",
    "        concat_y = torch.cat(unpadded_y, dim=0)\n",
    "        # print(concat_x.dtype)\n",
    "        concat_y_pred = my_model(concat_x)[:, 0]\n",
    "\n",
    "        current_loss = bce(concat_y_pred, concat_y)\n",
    "        current_loss.backward()\n",
    "        optim.step()\n",
    "        total_loss = total_loss + (current_loss.detach().cpu().numpy()) * concat_x.shape[0]\n",
    "        total_samples = total_samples + concat_x.shape[0]\n",
    "        batch_train_accuracy_privacy = (torch.sum((concat_y == 1) & (concat_y_pred >= 0.5)) + torch.sum((concat_y  == 0) & (concat_y_pred < 0.5)))/ (concat_y.shape[0])\n",
    "\n",
    "        s.set_description(f\"Training...{training_percent:.2f}%, Acc{batch_train_accuracy_privacy:.2f}\")\n",
    "\n",
    "    if (epoch+1) % validating_frequency == 0:\n",
    "        # train profile assigment DT model using the optimal training set membership\n",
    "        my_model.eval()\n",
    "\n",
    "        total_y_pred = []\n",
    "        total_y_truth = []\n",
    "        for x_padded, y_padded, x_lens, y_lens in val_loader:\n",
    "          unpadded_x = unpad_sequence(x_padded, x_lens, batch_first=True,)\n",
    "          unpadded_y = unpad_sequence(y_padded, y_lens, batch_first=True,)\n",
    "          concat_x = torch.cat(unpadded_x, dim=0)\n",
    "          concat_y = torch.cat(unpadded_y, dim=0)\n",
    "          concat_y_pred = my_model(concat_x)[:, 0] > 0.5\n",
    "\n",
    "          total_y_pred.extend(concat_y_pred.detach().cpu().numpy())\n",
    "          total_y_truth.extend(concat_y.detach().cpu().numpy())\n",
    "\n",
    "        valid_accuracy = accuracy_score(total_y_truth, total_y_pred)\n",
    "        s.set_postfix(validation_accuracy = valid_accuracy)\n",
    "        torch.save(my_model.state_dict(), f\"{model_path}/background_detector{epoch}.ckpt\")\n"
   ],
   "metadata": {
    "collapsed": false
   }
  },
  {
   "cell_type": "code",
   "execution_count": 12,
   "outputs": [
    {
     "name": "stdout",
     "output_type": "stream",
     "text": [
      "Test_Accuracy 0.7056482633941394\n"
     ]
    }
   ],
   "source": [
    "my_model.eval()\n",
    "total_y_pred = []\n",
    "total_y_truth = []\n",
    "total_y_prob = []\n",
    "for x_padded, y_padded, x_lens, y_lens in test_loader:\n",
    "  unpadded_x = unpad_sequence(x_padded, x_lens, batch_first=True)\n",
    "  unpadded_y = unpad_sequence(y_padded, y_lens, batch_first=True)\n",
    "  concat_x = torch.cat(unpadded_x, dim=0)\n",
    "  concat_y = torch.cat(unpadded_y, dim=0)\n",
    "  concat_y_pred = my_model(concat_x)[:, 0] > 0.5\n",
    "  concat_y_prob = my_model(concat_x)[:, 0]\n",
    "  total_y_pred.extend(concat_y_pred.detach().cpu().numpy())\n",
    "  total_y_truth.extend(concat_y.detach().cpu().numpy())\n",
    "test_accuracy = accuracy_score(total_y_truth, total_y_pred)\n",
    "print(\"Test_Accuracy\", test_accuracy)"
   ],
   "metadata": {
    "collapsed": false
   }
  }
 ],
 "metadata": {
  "kernelspec": {
   "display_name": "Python 3",
   "language": "python",
   "name": "python3"
  },
  "language_info": {
   "codemirror_mode": {
    "name": "ipython",
    "version": 2
   },
   "file_extension": ".py",
   "mimetype": "text/x-python",
   "name": "python",
   "nbconvert_exporter": "python",
   "pygments_lexer": "ipython2",
   "version": "2.7.6"
  }
 },
 "nbformat": 4,
 "nbformat_minor": 0
}
